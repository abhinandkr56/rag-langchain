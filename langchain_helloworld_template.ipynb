{
 "cells": [
  {
   "cell_type": "code",
   "execution_count": null,
   "metadata": {},
   "outputs": [],
   "source": [
    "%pip -q install openai langchain langchain-openai huggingface_hub replicate"
   ]
  },
  {
   "cell_type": "code",
   "execution_count": null,
   "metadata": {},
   "outputs": [],
   "source": [
    "import os\n",
    "from IPython.display import display, Markdown\n",
    "\n",
    "# os.environ['OPENAI_API_KEY'] = ''\n",
    "# os.environ['HUGGINGFACEHUG_API_TOKEN'] = ''"
   ]
  },
  {
   "cell_type": "code",
   "execution_count": null,
   "metadata": {},
   "outputs": [],
   "source": [
    "from langchain_openai.chat_models import ChatOpenAI\n",
    "from langchain_community.llms import HuggingFaceEndpoint"
   ]
  },
  {
   "cell_type": "code",
   "execution_count": null,
   "metadata": {},
   "outputs": [],
   "source": [
    "llm_openai = ChatOpenAI(model_name='gpt-3.5-turbo', temperature=0.9, max_tokens=256)\n",
    "llm_hf = HuggingFaceEndpoint(repo_id=\"mistralai/Mistral-7B-Instruct-v0.2\", temperature= 0.5, max_new_tokens=256)"
   ]
  },
  {
   "cell_type": "code",
   "execution_count": null,
   "metadata": {},
   "outputs": [],
   "source": [
    "from langchain import PromptTemplate\n",
    "from langchain.chains import LLMChain\n",
    "\n",
    "assistant_template = \"\"\"\n",
    "You are a witty AI assistant. You respond truthfully with a hint of humour. \n",
    "If you don't know how to respond, you respond with \"Sorry, I don't know\".\n",
    "\n",
    "Human: {input}\n",
    "\"\"\"\n",
    "\n",
    "prompt_template = PromptTemplate(input_variables=[\"input\"], template=assistant_template)\n",
    "\n",
    "llm = llm_hf\n",
    "chain = LLMChain(llm=llm, prompt=prompt_template, verbose=True)\n"
   ]
  },
  {
   "cell_type": "code",
   "execution_count": null,
   "metadata": {},
   "outputs": [],
   "source": [
    "\n",
    "input = \"Why did the chicken cross the road?\"\n",
    "\n",
    "prompt = prompt_template.format(input=input)\n",
    "\n",
    "# print(prompt)\n",
    "\n",
    "response = chain.invoke(input)\n",
    "Markdown(response['text'])"
   ]
  }
 ],
 "metadata": {
  "kernelspec": {
   "display_name": "Python (langchain-dev)",
   "language": "python",
   "name": "langchain-dev-kernel"
  },
  "language_info": {
   "codemirror_mode": {
    "name": "ipython",
    "version": 3
   },
   "file_extension": ".py",
   "mimetype": "text/x-python",
   "name": "python",
   "nbconvert_exporter": "python",
   "pygments_lexer": "ipython3",
   "version": "3.12.2"
  }
 },
 "nbformat": 4,
 "nbformat_minor": 2
}
